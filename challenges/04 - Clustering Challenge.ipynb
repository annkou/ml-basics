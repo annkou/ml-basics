{
 "cells": [
  {
   "cell_type": "markdown",
   "metadata": {},
   "source": [
    "# Clustering Challenge\n",
    "\n",
    "Clustering is an *unsupervised* machine learning technique in which you train a model to group similar entities into clusters based on their features.\n",
    "\n",
    "In this exercise, you must separate a dataset consisting of three numeric features (**A**, **B**, and **C**) into clusters. Run the cell below to load the data."
   ]
  },
  {
   "cell_type": "code",
   "execution_count": 1,
   "metadata": {},
   "outputs": [
    {
     "data": {
      "text/html": [
       "<div>\n",
       "<style scoped>\n",
       "    .dataframe tbody tr th:only-of-type {\n",
       "        vertical-align: middle;\n",
       "    }\n",
       "\n",
       "    .dataframe tbody tr th {\n",
       "        vertical-align: top;\n",
       "    }\n",
       "\n",
       "    .dataframe thead th {\n",
       "        text-align: right;\n",
       "    }\n",
       "</style>\n",
       "<table border=\"1\" class=\"dataframe\">\n",
       "  <thead>\n",
       "    <tr style=\"text-align: right;\">\n",
       "      <th></th>\n",
       "      <th>A</th>\n",
       "      <th>B</th>\n",
       "      <th>C</th>\n",
       "    </tr>\n",
       "  </thead>\n",
       "  <tbody>\n",
       "    <tr>\n",
       "      <th>0</th>\n",
       "      <td>-0.087492</td>\n",
       "      <td>0.398000</td>\n",
       "      <td>0.014275</td>\n",
       "    </tr>\n",
       "    <tr>\n",
       "      <th>1</th>\n",
       "      <td>-1.071705</td>\n",
       "      <td>-0.546473</td>\n",
       "      <td>0.072424</td>\n",
       "    </tr>\n",
       "    <tr>\n",
       "      <th>2</th>\n",
       "      <td>2.747075</td>\n",
       "      <td>2.012649</td>\n",
       "      <td>3.083964</td>\n",
       "    </tr>\n",
       "    <tr>\n",
       "      <th>3</th>\n",
       "      <td>3.217913</td>\n",
       "      <td>2.213772</td>\n",
       "      <td>4.260312</td>\n",
       "    </tr>\n",
       "    <tr>\n",
       "      <th>4</th>\n",
       "      <td>-0.607273</td>\n",
       "      <td>0.793914</td>\n",
       "      <td>-0.516091</td>\n",
       "    </tr>\n",
       "  </tbody>\n",
       "</table>\n",
       "</div>"
      ],
      "text/plain": [
       "          A         B         C\n",
       "0 -0.087492  0.398000  0.014275\n",
       "1 -1.071705 -0.546473  0.072424\n",
       "2  2.747075  2.012649  3.083964\n",
       "3  3.217913  2.213772  4.260312\n",
       "4 -0.607273  0.793914 -0.516091"
      ]
     },
     "execution_count": 1,
     "metadata": {},
     "output_type": "execute_result"
    }
   ],
   "source": [
    "import pandas as pd\n",
    "\n",
    "data = pd.read_csv('data/clusters.csv')\n",
    "data.head()"
   ]
  },
  {
   "cell_type": "markdown",
   "metadata": {},
   "source": [
    "Your challenge is to identify the number of discrete clusters present in the data, and create a clustering model that separates the data into that number of clusters. You should also visualize the clusters to evaluate the level of separation achieved by your model.\n",
    "\n",
    "Add markdown and code cells as required to create your solution.\n",
    "\n",
    "> **Note**: There is no single \"correct\" solution. A sample solution is provided in [04 - Clustering Solution.ipynb](04%20-%20Clustering%20Solution.ipynb)."
   ]
  },
  {
   "cell_type": "markdown",
   "metadata": {},
   "source": [
    "### Check for missing values"
   ]
  },
  {
   "cell_type": "code",
   "execution_count": 3,
   "metadata": {},
   "outputs": [
    {
     "data": {
      "text/plain": [
       "A    0\n",
       "B    0\n",
       "C    0\n",
       "dtype: int64"
      ]
     },
     "execution_count": 3,
     "metadata": {},
     "output_type": "execute_result"
    }
   ],
   "source": [
    "# Your code to create a clustering solution\n",
    "data.isnull().sum()"
   ]
  },
  {
   "cell_type": "code",
   "execution_count": 4,
   "metadata": {},
   "outputs": [
    {
     "data": {
      "text/html": [
       "<div>\n",
       "<style scoped>\n",
       "    .dataframe tbody tr th:only-of-type {\n",
       "        vertical-align: middle;\n",
       "    }\n",
       "\n",
       "    .dataframe tbody tr th {\n",
       "        vertical-align: top;\n",
       "    }\n",
       "\n",
       "    .dataframe thead th {\n",
       "        text-align: right;\n",
       "    }\n",
       "</style>\n",
       "<table border=\"1\" class=\"dataframe\">\n",
       "  <thead>\n",
       "    <tr style=\"text-align: right;\">\n",
       "      <th></th>\n",
       "      <th>A</th>\n",
       "      <th>B</th>\n",
       "      <th>C</th>\n",
       "    </tr>\n",
       "  </thead>\n",
       "  <tbody>\n",
       "    <tr>\n",
       "      <th>0</th>\n",
       "      <td>-0.087492</td>\n",
       "      <td>0.398000</td>\n",
       "      <td>0.014275</td>\n",
       "    </tr>\n",
       "    <tr>\n",
       "      <th>1</th>\n",
       "      <td>-1.071705</td>\n",
       "      <td>-0.546473</td>\n",
       "      <td>0.072424</td>\n",
       "    </tr>\n",
       "    <tr>\n",
       "      <th>2</th>\n",
       "      <td>2.747075</td>\n",
       "      <td>2.012649</td>\n",
       "      <td>3.083964</td>\n",
       "    </tr>\n",
       "    <tr>\n",
       "      <th>3</th>\n",
       "      <td>3.217913</td>\n",
       "      <td>2.213772</td>\n",
       "      <td>4.260312</td>\n",
       "    </tr>\n",
       "    <tr>\n",
       "      <th>4</th>\n",
       "      <td>-0.607273</td>\n",
       "      <td>0.793914</td>\n",
       "      <td>-0.516091</td>\n",
       "    </tr>\n",
       "    <tr>\n",
       "      <th>...</th>\n",
       "      <td>...</td>\n",
       "      <td>...</td>\n",
       "      <td>...</td>\n",
       "    </tr>\n",
       "    <tr>\n",
       "      <th>995</th>\n",
       "      <td>1.035455</td>\n",
       "      <td>1.916280</td>\n",
       "      <td>1.535641</td>\n",
       "    </tr>\n",
       "    <tr>\n",
       "      <th>996</th>\n",
       "      <td>3.479744</td>\n",
       "      <td>3.747277</td>\n",
       "      <td>3.038687</td>\n",
       "    </tr>\n",
       "    <tr>\n",
       "      <th>997</th>\n",
       "      <td>2.422571</td>\n",
       "      <td>1.771780</td>\n",
       "      <td>1.729732</td>\n",
       "    </tr>\n",
       "    <tr>\n",
       "      <th>998</th>\n",
       "      <td>-0.237440</td>\n",
       "      <td>-0.029278</td>\n",
       "      <td>0.077298</td>\n",
       "    </tr>\n",
       "    <tr>\n",
       "      <th>999</th>\n",
       "      <td>2.402302</td>\n",
       "      <td>2.166136</td>\n",
       "      <td>2.263434</td>\n",
       "    </tr>\n",
       "  </tbody>\n",
       "</table>\n",
       "<p>1000 rows × 3 columns</p>\n",
       "</div>"
      ],
      "text/plain": [
       "            A         B         C\n",
       "0   -0.087492  0.398000  0.014275\n",
       "1   -1.071705 -0.546473  0.072424\n",
       "2    2.747075  2.012649  3.083964\n",
       "3    3.217913  2.213772  4.260312\n",
       "4   -0.607273  0.793914 -0.516091\n",
       "..        ...       ...       ...\n",
       "995  1.035455  1.916280  1.535641\n",
       "996  3.479744  3.747277  3.038687\n",
       "997  2.422571  1.771780  1.729732\n",
       "998 -0.237440 -0.029278  0.077298\n",
       "999  2.402302  2.166136  2.263434\n",
       "\n",
       "[1000 rows x 3 columns]"
      ]
     },
     "execution_count": 4,
     "metadata": {},
     "output_type": "execute_result"
    }
   ],
   "source": [
    "data"
   ]
  },
  {
   "cell_type": "markdown",
   "metadata": {},
   "source": [
    "### PCA 2D representation\n"
   ]
  },
  {
   "cell_type": "code",
   "execution_count": 5,
   "metadata": {},
   "outputs": [
    {
     "data": {
      "text/plain": [
       "array([[ 0.38631524, -0.05515159],\n",
       "       [ 0.5679739 , -0.06144958],\n",
       "       [-0.2979762 ,  0.08474023],\n",
       "       ...,\n",
       "       [-0.13072154,  0.0767816 ],\n",
       "       [ 0.43722666, -0.02364599],\n",
       "       [-0.21179279,  0.02825676]])"
      ]
     },
     "execution_count": 5,
     "metadata": {},
     "output_type": "execute_result"
    }
   ],
   "source": [
    "from sklearn.preprocessing import MinMaxScaler\n",
    "from sklearn.decomposition import PCA\n",
    "\n",
    "#scale the data\n",
    "scaled_features = MinMaxScaler().fit_transform(data)\n",
    "pca = PCA(n_components=2).fit(scaled_features)\n",
    "features_2d = pca.transform(scaled_features)\n",
    "\n",
    "#create the 2 dimensional data (reduce)\n",
    "features_2d"
   ]
  },
  {
   "cell_type": "markdown",
   "metadata": {},
   "source": [
    "### Visualize the data points "
   ]
  },
  {
   "cell_type": "code",
   "execution_count": 7,
   "metadata": {},
   "outputs": [
    {
     "data": {
      "image/png": "[encoded data removed]",
      "text/plain": [
       "<Figure size 432x288 with 1 Axes>"
      ]
     },
     "metadata": {
      "needs_background": "light"
     },
     "output_type": "display_data"
    }
   ],
   "source": [
    "import matplotlib.pyplot as plt\n",
    "\n",
    "%matplotlib inline\n",
    "plt.scatter(features_2d[:,0],features_2d[:,1])\n",
    "plt.title('Unclustered data')\n",
    "plt.xlabel('Dimension 1')\n",
    "plt.xlabel('Dimension 2')\n",
    "plt.show()"
   ]
  },
  {
   "cell_type": "markdown",
   "metadata": {},
   "source": [
    "### Apply K-means elbow curve"
   ]
  },
  {
   "cell_type": "code",
   "execution_count": 9,
   "metadata": {},
   "outputs": [
    {
     "data": {
      "text/plain": [
       "[<matplotlib.lines.Line2D at 0x14fd35b5700>]"
      ]
     },
     "execution_count": 9,
     "metadata": {},
     "output_type": "execute_result"
    },
    {
     "data": {
      "image/png": "[encoded data removed]",
      "text/plain": [
       "<Figure size 432x288 with 1 Axes>"
      ]
     },
     "metadata": {
      "needs_background": "light"
     },
     "output_type": "display_data"
    }
   ],
   "source": [
    "#importing the libraries\n",
    "import numpy as np\n",
    "import matplotlib.pyplot as plt\n",
    "from sklearn.cluster import KMeans\n",
    "%matplotlib inline\n",
    "\n",
    "sse = []\n",
    "for k in range(1,10):\n",
    "    model = KMeans(n_clusters=k, random_state=0,n_init=100,max_iter=1000)\n",
    "    model.fit(data)\n",
    "    sse.append(model.inertia_)\n",
    "#check this in my thesis \n",
    "plt.plot(range(1,10),sse)\n"
   ]
  },
  {
   "cell_type": "code",
   "execution_count": 10,
   "metadata": {},
   "outputs": [
    {
     "data": {
      "text/html": [
       "<div>\n",
       "<style scoped>\n",
       "    .dataframe tbody tr th:only-of-type {\n",
       "        vertical-align: middle;\n",
       "    }\n",
       "\n",
       "    .dataframe tbody tr th {\n",
       "        vertical-align: top;\n",
       "    }\n",
       "\n",
       "    .dataframe thead th {\n",
       "        text-align: right;\n",
       "    }\n",
       "</style>\n",
       "<table border=\"1\" class=\"dataframe\">\n",
       "  <thead>\n",
       "    <tr style=\"text-align: right;\">\n",
       "      <th></th>\n",
       "      <th>A</th>\n",
       "      <th>B</th>\n",
       "      <th>C</th>\n",
       "    </tr>\n",
       "  </thead>\n",
       "  <tbody>\n",
       "    <tr>\n",
       "      <th>0</th>\n",
       "      <td>-0.087492</td>\n",
       "      <td>0.398000</td>\n",
       "      <td>0.014275</td>\n",
       "    </tr>\n",
       "    <tr>\n",
       "      <th>1</th>\n",
       "      <td>-1.071705</td>\n",
       "      <td>-0.546473</td>\n",
       "      <td>0.072424</td>\n",
       "    </tr>\n",
       "    <tr>\n",
       "      <th>2</th>\n",
       "      <td>2.747075</td>\n",
       "      <td>2.012649</td>\n",
       "      <td>3.083964</td>\n",
       "    </tr>\n",
       "    <tr>\n",
       "      <th>3</th>\n",
       "      <td>3.217913</td>\n",
       "      <td>2.213772</td>\n",
       "      <td>4.260312</td>\n",
       "    </tr>\n",
       "    <tr>\n",
       "      <th>4</th>\n",
       "      <td>-0.607273</td>\n",
       "      <td>0.793914</td>\n",
       "      <td>-0.516091</td>\n",
       "    </tr>\n",
       "    <tr>\n",
       "      <th>...</th>\n",
       "      <td>...</td>\n",
       "      <td>...</td>\n",
       "      <td>...</td>\n",
       "    </tr>\n",
       "    <tr>\n",
       "      <th>995</th>\n",
       "      <td>1.035455</td>\n",
       "      <td>1.916280</td>\n",
       "      <td>1.535641</td>\n",
       "    </tr>\n",
       "    <tr>\n",
       "      <th>996</th>\n",
       "      <td>3.479744</td>\n",
       "      <td>3.747277</td>\n",
       "      <td>3.038687</td>\n",
       "    </tr>\n",
       "    <tr>\n",
       "      <th>997</th>\n",
       "      <td>2.422571</td>\n",
       "      <td>1.771780</td>\n",
       "      <td>1.729732</td>\n",
       "    </tr>\n",
       "    <tr>\n",
       "      <th>998</th>\n",
       "      <td>-0.237440</td>\n",
       "      <td>-0.029278</td>\n",
       "      <td>0.077298</td>\n",
       "    </tr>\n",
       "    <tr>\n",
       "      <th>999</th>\n",
       "      <td>2.402302</td>\n",
       "      <td>2.166136</td>\n",
       "      <td>2.263434</td>\n",
       "    </tr>\n",
       "  </tbody>\n",
       "</table>\n",
       "<p>1000 rows × 3 columns</p>\n",
       "</div>"
      ],
      "text/plain": [
       "            A         B         C\n",
       "0   -0.087492  0.398000  0.014275\n",
       "1   -1.071705 -0.546473  0.072424\n",
       "2    2.747075  2.012649  3.083964\n",
       "3    3.217913  2.213772  4.260312\n",
       "4   -0.607273  0.793914 -0.516091\n",
       "..        ...       ...       ...\n",
       "995  1.035455  1.916280  1.535641\n",
       "996  3.479744  3.747277  3.038687\n",
       "997  2.422571  1.771780  1.729732\n",
       "998 -0.237440 -0.029278  0.077298\n",
       "999  2.402302  2.166136  2.263434\n",
       "\n",
       "[1000 rows x 3 columns]"
      ]
     },
     "execution_count": 10,
     "metadata": {},
     "output_type": "execute_result"
    }
   ],
   "source": [
    "data"
   ]
  },
  {
   "cell_type": "markdown",
   "metadata": {},
   "source": [
    "### Choose number of clusters and calculate them"
   ]
  },
  {
   "cell_type": "code",
   "execution_count": 11,
   "metadata": {},
   "outputs": [
    {
     "data": {
      "text/plain": [
       "array([0, 0, 1, 1, 0, 0, 1, 3, 0, 0, 1, 2, 2, 3, 3, 3, 1, 2, 3, 3, 0, 3,\n",
       "       0, 0, 3, 2, 1, 0, 2, 3, 2, 0, 1, 3, 3, 0, 3, 3, 0, 3, 3, 3, 1, 2,\n",
       "       1, 0, 0, 1, 1, 3, 0, 2, 1, 1, 1, 1, 3, 0, 1, 0, 0, 0, 0, 0, 3, 3,\n",
       "       2, 3, 2, 1, 2, 3, 3, 1, 2, 3, 3, 3, 0, 2, 3, 2, 1, 2, 3, 1, 2, 3,\n",
       "       3, 2, 2, 2, 1, 3, 2, 3, 1, 3, 1, 2, 3, 2, 1, 2, 3, 2, 1, 3, 3, 1,\n",
       "       3, 2, 0, 0, 2, 1, 2, 1, 0, 2, 3, 2, 1, 1, 0, 3, 2, 3, 1, 0, 2, 2,\n",
       "       2, 3, 2, 2, 3, 0, 3, 2, 0, 2, 2, 0, 1, 1, 3, 1, 3, 3, 1, 0, 0, 3,\n",
       "       0, 2, 0, 3, 3, 3, 2, 0, 1, 1, 3, 2, 2, 0, 0, 1, 0, 2, 3, 1, 3, 2,\n",
       "       2, 3, 3, 0, 3, 0, 2, 2, 3, 1, 0, 1, 1, 2, 2, 0, 2, 3, 1, 2, 3, 3,\n",
       "       0, 1, 2, 1, 1, 1, 0, 0, 1, 3, 1, 0, 1, 1, 2, 0, 1, 3, 3, 1, 0, 1,\n",
       "       3, 0, 2, 1, 2, 3, 2, 0, 2, 0, 3, 0, 2, 3, 0, 1, 1, 0, 1, 2, 1, 2,\n",
       "       1, 3, 3, 2, 1, 0, 0, 3, 1, 3, 2, 2, 1, 1, 1, 0, 1, 0, 3, 1, 1, 3,\n",
       "       0, 3, 2, 2, 2, 3, 1, 0, 3, 2, 0, 2, 1, 3, 3, 0, 1, 1, 2, 0, 0, 1,\n",
       "       1, 2, 1, 0, 0, 2, 0, 1, 1, 1, 3, 3, 2, 0, 1, 3, 1, 2, 0, 3, 0, 3,\n",
       "       2, 0, 2, 0, 0, 2, 2, 0, 0, 0, 2, 2, 0, 3, 0, 3, 0, 1, 0, 0, 3, 3,\n",
       "       3, 2, 0, 1, 1, 3, 3, 2, 2, 3, 1, 2, 0, 3, 1, 3, 3, 0, 3, 2, 0, 3,\n",
       "       3, 1, 1, 1, 0, 3, 1, 2, 2, 2, 0, 0, 3, 1, 2, 1, 3, 1, 3, 1, 2, 0,\n",
       "       1, 0, 2, 1, 0, 3, 2, 2, 3, 3, 2, 3, 1, 3, 3, 0, 3, 1, 2, 1, 2, 1,\n",
       "       3, 3, 2, 1, 0, 1, 2, 0, 1, 0, 3, 2, 0, 2, 1, 3, 2, 1, 2, 1, 1, 2,\n",
       "       1, 0, 0, 0, 0, 1, 3, 2, 3, 0, 3, 3, 0, 0, 2, 3, 2, 1, 0, 2, 1, 0,\n",
       "       1, 1, 0, 1, 3, 2, 1, 1, 0, 3, 1, 3, 3, 0, 1, 3, 1, 2, 3, 2, 1, 2,\n",
       "       3, 0, 0, 3, 1, 3, 3, 2, 3, 3, 1, 2, 0, 0, 3, 2, 0, 0, 0, 2, 1, 2,\n",
       "       0, 1, 0, 1, 0, 2, 2, 1, 3, 0, 3, 1, 1, 1, 1, 0, 1, 3, 3, 2, 0, 2,\n",
       "       2, 0, 1, 3, 2, 2, 0, 1, 3, 1, 2, 2, 1, 0, 1, 1, 0, 0, 3, 3, 3, 3,\n",
       "       2, 2, 0, 0, 0, 2, 0, 2, 3, 2, 3, 3, 2, 3, 3, 1, 1, 1, 3, 0, 2, 0,\n",
       "       3, 1, 2, 3, 3, 1, 3, 3, 2, 1, 1, 0, 1, 2, 1, 0, 3, 1, 2, 1, 2, 3,\n",
       "       2, 1, 3, 3, 3, 2, 0, 1, 2, 0, 3, 2, 0, 2, 1, 0, 3, 2, 1, 2, 0, 3,\n",
       "       3, 0, 3, 1, 2, 0, 0, 3, 0, 0, 2, 0, 1, 3, 3, 2, 2, 0, 1, 2, 2, 2,\n",
       "       2, 0, 2, 3, 0, 0, 3, 2, 3, 3, 1, 0, 0, 1, 0, 2, 3, 2, 2, 3, 1, 3,\n",
       "       2, 2, 1, 1, 1, 3, 1, 1, 2, 2, 3, 1, 2, 1, 3, 2, 1, 1, 1, 1, 0, 3,\n",
       "       3, 0, 1, 0, 0, 2, 3, 0, 0, 3, 2, 2, 3, 0, 1, 2, 2, 1, 1, 1, 1, 1,\n",
       "       1, 3, 1, 1, 2, 0, 1, 1, 0, 3, 3, 0, 3, 2, 1, 2, 0, 0, 3, 0, 0, 3,\n",
       "       1, 1, 3, 1, 0, 1, 0, 2, 2, 2, 0, 3, 2, 0, 2, 1, 0, 2, 0, 3, 0, 2,\n",
       "       2, 2, 0, 1, 3, 3, 2, 3, 2, 2, 0, 3, 3, 1, 2, 2, 3, 2, 0, 2, 0, 0,\n",
       "       0, 0, 3, 2, 0, 2, 1, 2, 3, 3, 3, 2, 0, 3, 0, 3, 3, 1, 3, 3, 2, 2,\n",
       "       0, 3, 0, 1, 2, 1, 1, 0, 1, 3, 0, 2, 2, 2, 3, 1, 1, 1, 3, 0, 2, 1,\n",
       "       0, 1, 0, 1, 0, 0, 1, 1, 0, 3, 1, 2, 3, 1, 3, 1, 1, 2, 2, 0, 1, 2,\n",
       "       2, 3, 0, 1, 3, 3, 3, 1, 1, 1, 1, 2, 0, 0, 1, 1, 1, 0, 2, 2, 1, 2,\n",
       "       1, 3, 2, 2, 2, 1, 1, 0, 3, 2, 1, 1, 3, 3, 3, 3, 3, 2, 3, 1, 2, 2,\n",
       "       2, 2, 1, 3, 2, 3, 1, 3, 3, 1, 3, 3, 2, 1, 3, 0, 2, 3, 1, 2, 2, 1,\n",
       "       0, 1, 2, 1, 2, 1, 1, 2, 1, 2, 3, 0, 3, 3, 2, 1, 3, 2, 0, 0, 3, 2,\n",
       "       3, 0, 0, 3, 2, 2, 0, 0, 1, 1, 0, 0, 1, 0, 3, 2, 2, 0, 3, 3, 2, 1,\n",
       "       3, 1, 3, 1, 1, 0, 1, 1, 1, 3, 0, 1, 2, 0, 1, 2, 2, 0, 2, 2, 3, 0,\n",
       "       0, 1, 1, 0, 2, 1, 2, 2, 3, 3, 0, 1, 3, 3, 0, 0, 3, 2, 3, 0, 3, 2,\n",
       "       3, 2, 0, 2, 1, 3, 3, 2, 1, 1, 0, 2, 2, 3, 3, 1, 3, 1, 0, 2, 2, 1,\n",
       "       2, 2, 2, 2, 1, 3, 1, 3, 0, 3])"
      ]
     },
     "execution_count": 11,
     "metadata": {},
     "output_type": "execute_result"
    }
   ],
   "source": [
    "kmeans = KMeans(n_clusters=4,n_init=500,max_iter=1500)\n",
    "clusters = kmeans.fit_predict(data)\n",
    "clusters"
   ]
  },
  {
   "cell_type": "markdown",
   "metadata": {},
   "source": [
    "### Visualize results"
   ]
  },
  {
   "cell_type": "code",
   "execution_count": 16,
   "metadata": {},
   "outputs": [
    {
     "data": {
      "text/plain": [
       "array([0, 0, 1, 1, 0, 0, 1, 3, 0, 0, 1, 2, 2, 3, 3, 3, 1, 2, 3, 3, 0, 3,\n",
       "       0, 0, 3, 2, 1, 0, 2, 3, 2, 0, 1, 3, 3, 0, 3, 3, 0, 3, 3, 3, 1, 2,\n",
       "       1, 0, 0, 1, 1, 3, 0, 2, 1, 1, 1, 1, 3, 0, 1, 0, 0, 0, 0, 0, 3, 3,\n",
       "       2, 3, 2, 1, 2, 3, 3, 1, 2, 3, 3, 3, 0, 2, 3, 2, 1, 2, 3, 1, 2, 3,\n",
       "       3, 2, 2, 2, 1, 3, 2, 3, 1, 3, 1, 2, 3, 2, 1, 2, 3, 2, 1, 3, 3, 1,\n",
       "       3, 2, 0, 0, 2, 1, 2, 1, 0, 2, 3, 2, 1, 1, 0, 3, 2, 3, 1, 0, 2, 2,\n",
       "       2, 3, 2, 2, 3, 0, 3, 2, 0, 2, 2, 0, 1, 1, 3, 1, 3, 3, 1, 0, 0, 3,\n",
       "       0, 2, 0, 3, 3, 3, 2, 0, 1, 1, 3, 2, 2, 0, 0, 1, 0, 2, 3, 1, 3, 2,\n",
       "       2, 3, 3, 0, 3, 0, 2, 2, 3, 1, 0, 1, 1, 2, 2, 0, 2, 3, 1, 2, 3, 3,\n",
       "       0, 1, 2, 1, 1, 1, 0, 0, 1, 3, 1, 0, 1, 1, 2, 0, 1, 3, 3, 1, 0, 1,\n",
       "       3, 0, 2, 1, 2, 3, 2, 0, 2, 0, 3, 0, 2, 3, 0, 1, 1, 0, 1, 2, 1, 2,\n",
       "       1, 3, 3, 2, 1, 0, 0, 3, 1, 3, 2, 2, 1, 1, 1, 0, 1, 0, 3, 1, 1, 3,\n",
       "       0, 3, 2, 2, 2, 3, 1, 0, 3, 2, 0, 2, 1, 3, 3, 0, 1, 1, 2, 0, 0, 1,\n",
       "       1, 2, 1, 0, 0, 2, 0, 1, 1, 1, 3, 3, 2, 0, 1, 3, 1, 2, 0, 3, 0, 3,\n",
       "       2, 0, 2, 0, 0, 2, 2, 0, 0, 0, 2, 2, 0, 3, 0, 3, 0, 1, 0, 0, 3, 3,\n",
       "       3, 2, 0, 1, 1, 3, 3, 2, 2, 3, 1, 2, 0, 3, 1, 3, 3, 0, 3, 2, 0, 3,\n",
       "       3, 1, 1, 1, 0, 3, 1, 2, 2, 2, 0, 0, 3, 1, 2, 1, 3, 1, 3, 1, 2, 0,\n",
       "       1, 0, 2, 1, 0, 3, 2, 2, 3, 3, 2, 3, 1, 3, 3, 0, 3, 1, 2, 1, 2, 1,\n",
       "       3, 3, 2, 1, 0, 1, 2, 0, 1, 0, 3, 2, 0, 2, 1, 3, 2, 1, 2, 1, 1, 2,\n",
       "       1, 0, 0, 0, 0, 1, 3, 2, 3, 0, 3, 3, 0, 0, 2, 3, 2, 1, 0, 2, 1, 0,\n",
       "       1, 1, 0, 1, 3, 2, 1, 1, 0, 3, 1, 3, 3, 0, 1, 3, 1, 2, 3, 2, 1, 2,\n",
       "       3, 0, 0, 3, 1, 3, 3, 2, 3, 3, 1, 2, 0, 0, 3, 2, 0, 0, 0, 2, 1, 2,\n",
       "       0, 1, 0, 1, 0, 2, 2, 1, 3, 0, 3, 1, 1, 1, 1, 0, 1, 3, 3, 2, 0, 2,\n",
       "       2, 0, 1, 3, 2, 2, 0, 1, 3, 1, 2, 2, 1, 0, 1, 1, 0, 0, 3, 3, 3, 3,\n",
       "       2, 2, 0, 0, 0, 2, 0, 2, 3, 2, 3, 3, 2, 3, 3, 1, 1, 1, 3, 0, 2, 0,\n",
       "       3, 1, 2, 3, 3, 1, 3, 3, 2, 1, 1, 0, 1, 2, 1, 0, 3, 1, 2, 1, 2, 3,\n",
       "       2, 1, 3, 3, 3, 2, 0, 1, 2, 0, 3, 2, 0, 2, 1, 0, 3, 2, 1, 2, 0, 3,\n",
       "       3, 0, 3, 1, 2, 0, 0, 3, 0, 0, 2, 0, 1, 3, 3, 2, 2, 0, 1, 2, 2, 2,\n",
       "       2, 0, 2, 3, 0, 0, 3, 2, 3, 3, 1, 0, 0, 1, 0, 2, 3, 2, 2, 3, 1, 3,\n",
       "       2, 2, 1, 1, 1, 3, 1, 1, 2, 2, 3, 1, 2, 1, 3, 2, 1, 1, 1, 1, 0, 3,\n",
       "       3, 0, 1, 0, 0, 2, 3, 0, 0, 3, 2, 2, 3, 0, 1, 2, 2, 1, 1, 1, 1, 1,\n",
       "       1, 3, 1, 1, 2, 0, 1, 1, 0, 3, 3, 0, 3, 2, 1, 2, 0, 0, 3, 0, 0, 3,\n",
       "       1, 1, 3, 1, 0, 1, 0, 2, 2, 2, 0, 3, 2, 0, 2, 1, 0, 2, 0, 3, 0, 2,\n",
       "       2, 2, 0, 1, 3, 3, 2, 3, 2, 2, 0, 3, 3, 1, 2, 2, 3, 2, 0, 2, 0, 0,\n",
       "       0, 0, 3, 2, 0, 2, 1, 2, 3, 3, 3, 2, 0, 3, 0, 3, 3, 1, 3, 3, 2, 2,\n",
       "       0, 3, 0, 1, 2, 1, 1, 0, 1, 3, 0, 2, 2, 2, 3, 1, 1, 1, 3, 0, 2, 1,\n",
       "       0, 1, 0, 1, 0, 0, 1, 1, 0, 3, 1, 2, 3, 1, 3, 1, 1, 2, 2, 0, 1, 2,\n",
       "       2, 3, 0, 1, 3, 3, 3, 1, 1, 1, 1, 2, 0, 0, 1, 1, 1, 0, 2, 2, 1, 2,\n",
       "       1, 3, 2, 2, 2, 1, 1, 0, 3, 2, 1, 1, 3, 3, 3, 3, 3, 2, 3, 1, 2, 2,\n",
       "       2, 2, 1, 3, 2, 3, 1, 3, 3, 1, 3, 3, 2, 1, 3, 0, 2, 3, 1, 2, 2, 1,\n",
       "       0, 1, 2, 1, 2, 1, 1, 2, 1, 2, 3, 0, 3, 3, 2, 1, 3, 2, 0, 0, 3, 2,\n",
       "       3, 0, 0, 3, 2, 2, 0, 0, 1, 1, 0, 0, 1, 0, 3, 2, 2, 0, 3, 3, 2, 1,\n",
       "       3, 1, 3, 1, 1, 0, 1, 1, 1, 3, 0, 1, 2, 0, 1, 2, 2, 0, 2, 2, 3, 0,\n",
       "       0, 1, 1, 0, 2, 1, 2, 2, 3, 3, 0, 1, 3, 3, 0, 0, 3, 2, 3, 0, 3, 2,\n",
       "       3, 2, 0, 2, 1, 3, 3, 2, 1, 1, 0, 2, 2, 3, 3, 1, 3, 1, 0, 2, 2, 1,\n",
       "       2, 2, 2, 2, 1, 3, 1, 3, 0, 3])"
      ]
     },
     "execution_count": 16,
     "metadata": {},
     "output_type": "execute_result"
    }
   ],
   "source": [
    "clusters"
   ]
  },
  {
   "cell_type": "code",
   "execution_count": 19,
   "metadata": {},
   "outputs": [
    {
     "data": {
      "image/png": "[encoded data removed]",
      "text/plain": [
       "<Figure size 432x288 with 1 Axes>"
      ]
     },
     "metadata": {
      "needs_background": "light"
     },
     "output_type": "display_data"
    }
   ],
   "source": [
    "def plot_clusters(samples , clusters):\n",
    "    markers_dic = {0:'*',1:'x',2:'+',3:'.'}\n",
    "    colors_dic = {0:'orange',1:'blue',2:'green',3:'red'}\n",
    "    colors = [colors_dic[x] for x in clusters]\n",
    "    markers = [markers_dic[x] for x in clusters]\n",
    "    # print(colors)\n",
    "    for i in range(len(clusters)):\n",
    "        # plt.scatter(samples[i][0],samples[i][1])\n",
    "        plt.scatter(samples[i][0], samples[i][1], color = colors[i], marker=markers[i], s=100) \n",
    "        # print(samples[i][0])\n",
    "plot_clusters(features_2d, clusters)"
   ]
  }
 ],
 "metadata": {
  "kernelspec": {
   "display_name": "Python 3.9.13 64-bit (windows store)",
   "language": "python",
   "name": "python3"
  },
  "language_info": {
   "codemirror_mode": {
    "name": "ipython",
    "version": 3
   },
   "file_extension": ".py",
   "mimetype": "text/x-python",
   "name": "python",
   "nbconvert_exporter": "python",
   "pygments_lexer": "ipython3",
   "version": "3.9.13"
  },
  "vscode": {
   "interpreter": {
    "hash": "dad7ed3e0dd29819ae2e6ed03a37630a7e37a0d13f25c92867081f7cb4481539"
   }
  }
 },
 "nbformat": 4,
 "nbformat_minor": 2
}
