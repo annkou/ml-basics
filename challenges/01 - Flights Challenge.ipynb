{
 "cells": [
  {
   "cell_type": "markdown",
   "metadata": {},
   "source": [
    "# Flights Data Exploration Challenge\n",
    "\n",
    "In this challenge, you'll explore a real-world dataset containing flights data from the US Department of Transportation.\n",
    "\n",
    "Let's start by loading and viewing the data."
   ]
  },
  {
   "cell_type": "code",
   "execution_count": 57,
   "metadata": {},
   "outputs": [
    {
     "data": {
      "text/html": [
       "<div>\n",
       "<style scoped>\n",
       "    .dataframe tbody tr th:only-of-type {\n",
       "        vertical-align: middle;\n",
       "    }\n",
       "\n",
       "    .dataframe tbody tr th {\n",
       "        vertical-align: top;\n",
       "    }\n",
       "\n",
       "    .dataframe thead th {\n",
       "        text-align: right;\n",
       "    }\n",
       "</style>\n",
       "<table border=\"1\" class=\"dataframe\">\n",
       "  <thead>\n",
       "    <tr style=\"text-align: right;\">\n",
       "      <th></th>\n",
       "      <th>Year</th>\n",
       "      <th>Month</th>\n",
       "      <th>DayofMonth</th>\n",
       "      <th>DayOfWeek</th>\n",
       "      <th>Carrier</th>\n",
       "      <th>OriginAirportID</th>\n",
       "      <th>OriginAirportName</th>\n",
       "      <th>OriginCity</th>\n",
       "      <th>OriginState</th>\n",
       "      <th>DestAirportID</th>\n",
       "      <th>DestAirportName</th>\n",
       "      <th>DestCity</th>\n",
       "      <th>DestState</th>\n",
       "      <th>CRSDepTime</th>\n",
       "      <th>DepDelay</th>\n",
       "      <th>DepDel15</th>\n",
       "      <th>CRSArrTime</th>\n",
       "      <th>ArrDelay</th>\n",
       "      <th>ArrDel15</th>\n",
       "      <th>Cancelled</th>\n",
       "    </tr>\n",
       "  </thead>\n",
       "  <tbody>\n",
       "    <tr>\n",
       "      <th>0</th>\n",
       "      <td>2013</td>\n",
       "      <td>9</td>\n",
       "      <td>16</td>\n",
       "      <td>1</td>\n",
       "      <td>DL</td>\n",
       "      <td>15304</td>\n",
       "      <td>Tampa International</td>\n",
       "      <td>Tampa</td>\n",
       "      <td>FL</td>\n",
       "      <td>12478</td>\n",
       "      <td>John F. Kennedy International</td>\n",
       "      <td>New York</td>\n",
       "      <td>NY</td>\n",
       "      <td>1539</td>\n",
       "      <td>4</td>\n",
       "      <td>0.0</td>\n",
       "      <td>1824</td>\n",
       "      <td>13</td>\n",
       "      <td>0</td>\n",
       "      <td>0</td>\n",
       "    </tr>\n",
       "    <tr>\n",
       "      <th>1</th>\n",
       "      <td>2013</td>\n",
       "      <td>9</td>\n",
       "      <td>23</td>\n",
       "      <td>1</td>\n",
       "      <td>WN</td>\n",
       "      <td>14122</td>\n",
       "      <td>Pittsburgh International</td>\n",
       "      <td>Pittsburgh</td>\n",
       "      <td>PA</td>\n",
       "      <td>13232</td>\n",
       "      <td>Chicago Midway International</td>\n",
       "      <td>Chicago</td>\n",
       "      <td>IL</td>\n",
       "      <td>710</td>\n",
       "      <td>3</td>\n",
       "      <td>0.0</td>\n",
       "      <td>740</td>\n",
       "      <td>22</td>\n",
       "      <td>1</td>\n",
       "      <td>0</td>\n",
       "    </tr>\n",
       "    <tr>\n",
       "      <th>2</th>\n",
       "      <td>2013</td>\n",
       "      <td>9</td>\n",
       "      <td>7</td>\n",
       "      <td>6</td>\n",
       "      <td>AS</td>\n",
       "      <td>14747</td>\n",
       "      <td>Seattle/Tacoma International</td>\n",
       "      <td>Seattle</td>\n",
       "      <td>WA</td>\n",
       "      <td>11278</td>\n",
       "      <td>Ronald Reagan Washington National</td>\n",
       "      <td>Washington</td>\n",
       "      <td>DC</td>\n",
       "      <td>810</td>\n",
       "      <td>-3</td>\n",
       "      <td>0.0</td>\n",
       "      <td>1614</td>\n",
       "      <td>-7</td>\n",
       "      <td>0</td>\n",
       "      <td>0</td>\n",
       "    </tr>\n",
       "    <tr>\n",
       "      <th>3</th>\n",
       "      <td>2013</td>\n",
       "      <td>7</td>\n",
       "      <td>22</td>\n",
       "      <td>1</td>\n",
       "      <td>OO</td>\n",
       "      <td>13930</td>\n",
       "      <td>Chicago O'Hare International</td>\n",
       "      <td>Chicago</td>\n",
       "      <td>IL</td>\n",
       "      <td>11042</td>\n",
       "      <td>Cleveland-Hopkins International</td>\n",
       "      <td>Cleveland</td>\n",
       "      <td>OH</td>\n",
       "      <td>804</td>\n",
       "      <td>35</td>\n",
       "      <td>1.0</td>\n",
       "      <td>1027</td>\n",
       "      <td>33</td>\n",
       "      <td>1</td>\n",
       "      <td>0</td>\n",
       "    </tr>\n",
       "    <tr>\n",
       "      <th>4</th>\n",
       "      <td>2013</td>\n",
       "      <td>5</td>\n",
       "      <td>16</td>\n",
       "      <td>4</td>\n",
       "      <td>DL</td>\n",
       "      <td>13931</td>\n",
       "      <td>Norfolk International</td>\n",
       "      <td>Norfolk</td>\n",
       "      <td>VA</td>\n",
       "      <td>10397</td>\n",
       "      <td>Hartsfield-Jackson Atlanta International</td>\n",
       "      <td>Atlanta</td>\n",
       "      <td>GA</td>\n",
       "      <td>545</td>\n",
       "      <td>-1</td>\n",
       "      <td>0.0</td>\n",
       "      <td>728</td>\n",
       "      <td>-9</td>\n",
       "      <td>0</td>\n",
       "      <td>0</td>\n",
       "    </tr>\n",
       "    <tr>\n",
       "      <th>5</th>\n",
       "      <td>2013</td>\n",
       "      <td>7</td>\n",
       "      <td>28</td>\n",
       "      <td>7</td>\n",
       "      <td>UA</td>\n",
       "      <td>12478</td>\n",
       "      <td>John F. Kennedy International</td>\n",
       "      <td>New York</td>\n",
       "      <td>NY</td>\n",
       "      <td>14771</td>\n",
       "      <td>San Francisco International</td>\n",
       "      <td>San Francisco</td>\n",
       "      <td>CA</td>\n",
       "      <td>1710</td>\n",
       "      <td>87</td>\n",
       "      <td>1.0</td>\n",
       "      <td>2035</td>\n",
       "      <td>183</td>\n",
       "      <td>1</td>\n",
       "      <td>0</td>\n",
       "    </tr>\n",
       "    <tr>\n",
       "      <th>6</th>\n",
       "      <td>2013</td>\n",
       "      <td>10</td>\n",
       "      <td>6</td>\n",
       "      <td>7</td>\n",
       "      <td>WN</td>\n",
       "      <td>13796</td>\n",
       "      <td>Metropolitan Oakland International</td>\n",
       "      <td>Oakland</td>\n",
       "      <td>CA</td>\n",
       "      <td>12191</td>\n",
       "      <td>William P Hobby</td>\n",
       "      <td>Houston</td>\n",
       "      <td>TX</td>\n",
       "      <td>630</td>\n",
       "      <td>-1</td>\n",
       "      <td>0.0</td>\n",
       "      <td>1210</td>\n",
       "      <td>-3</td>\n",
       "      <td>0</td>\n",
       "      <td>0</td>\n",
       "    </tr>\n",
       "    <tr>\n",
       "      <th>7</th>\n",
       "      <td>2013</td>\n",
       "      <td>7</td>\n",
       "      <td>28</td>\n",
       "      <td>7</td>\n",
       "      <td>EV</td>\n",
       "      <td>12264</td>\n",
       "      <td>Washington Dulles International</td>\n",
       "      <td>Washington</td>\n",
       "      <td>DC</td>\n",
       "      <td>14524</td>\n",
       "      <td>Richmond International</td>\n",
       "      <td>Richmond</td>\n",
       "      <td>VA</td>\n",
       "      <td>2218</td>\n",
       "      <td>4</td>\n",
       "      <td>0.0</td>\n",
       "      <td>2301</td>\n",
       "      <td>15</td>\n",
       "      <td>1</td>\n",
       "      <td>0</td>\n",
       "    </tr>\n",
       "    <tr>\n",
       "      <th>8</th>\n",
       "      <td>2013</td>\n",
       "      <td>10</td>\n",
       "      <td>8</td>\n",
       "      <td>2</td>\n",
       "      <td>AA</td>\n",
       "      <td>13930</td>\n",
       "      <td>Chicago O'Hare International</td>\n",
       "      <td>Chicago</td>\n",
       "      <td>IL</td>\n",
       "      <td>11298</td>\n",
       "      <td>Dallas/Fort Worth International</td>\n",
       "      <td>Dallas/Fort Worth</td>\n",
       "      <td>TX</td>\n",
       "      <td>1010</td>\n",
       "      <td>8</td>\n",
       "      <td>0.0</td>\n",
       "      <td>1240</td>\n",
       "      <td>-10</td>\n",
       "      <td>0</td>\n",
       "      <td>0</td>\n",
       "    </tr>\n",
       "    <tr>\n",
       "      <th>9</th>\n",
       "      <td>2013</td>\n",
       "      <td>5</td>\n",
       "      <td>12</td>\n",
       "      <td>7</td>\n",
       "      <td>UA</td>\n",
       "      <td>12478</td>\n",
       "      <td>John F. Kennedy International</td>\n",
       "      <td>New York</td>\n",
       "      <td>NY</td>\n",
       "      <td>12892</td>\n",
       "      <td>Los Angeles International</td>\n",
       "      <td>Los Angeles</td>\n",
       "      <td>CA</td>\n",
       "      <td>1759</td>\n",
       "      <td>40</td>\n",
       "      <td>1.0</td>\n",
       "      <td>2107</td>\n",
       "      <td>10</td>\n",
       "      <td>0</td>\n",
       "      <td>0</td>\n",
       "    </tr>\n",
       "  </tbody>\n",
       "</table>\n",
       "</div>"
      ],
      "text/plain": [
       "   Year  Month  DayofMonth  DayOfWeek Carrier  OriginAirportID  \\\n",
       "0  2013      9          16          1      DL            15304   \n",
       "1  2013      9          23          1      WN            14122   \n",
       "2  2013      9           7          6      AS            14747   \n",
       "3  2013      7          22          1      OO            13930   \n",
       "4  2013      5          16          4      DL            13931   \n",
       "5  2013      7          28          7      UA            12478   \n",
       "6  2013     10           6          7      WN            13796   \n",
       "7  2013      7          28          7      EV            12264   \n",
       "8  2013     10           8          2      AA            13930   \n",
       "9  2013      5          12          7      UA            12478   \n",
       "\n",
       "                    OriginAirportName  OriginCity OriginState  DestAirportID  \\\n",
       "0                 Tampa International       Tampa          FL          12478   \n",
       "1            Pittsburgh International  Pittsburgh          PA          13232   \n",
       "2        Seattle/Tacoma International     Seattle          WA          11278   \n",
       "3        Chicago O'Hare International     Chicago          IL          11042   \n",
       "4               Norfolk International     Norfolk          VA          10397   \n",
       "5       John F. Kennedy International    New York          NY          14771   \n",
       "6  Metropolitan Oakland International     Oakland          CA          12191   \n",
       "7     Washington Dulles International  Washington          DC          14524   \n",
       "8        Chicago O'Hare International     Chicago          IL          11298   \n",
       "9       John F. Kennedy International    New York          NY          12892   \n",
       "\n",
       "                            DestAirportName           DestCity DestState  \\\n",
       "0             John F. Kennedy International           New York        NY   \n",
       "1              Chicago Midway International            Chicago        IL   \n",
       "2         Ronald Reagan Washington National         Washington        DC   \n",
       "3           Cleveland-Hopkins International          Cleveland        OH   \n",
       "4  Hartsfield-Jackson Atlanta International            Atlanta        GA   \n",
       "5               San Francisco International      San Francisco        CA   \n",
       "6                           William P Hobby            Houston        TX   \n",
       "7                    Richmond International           Richmond        VA   \n",
       "8           Dallas/Fort Worth International  Dallas/Fort Worth        TX   \n",
       "9                 Los Angeles International        Los Angeles        CA   \n",
       "\n",
       "   CRSDepTime  DepDelay  DepDel15  CRSArrTime  ArrDelay  ArrDel15  Cancelled  \n",
       "0        1539         4       0.0        1824        13         0          0  \n",
       "1         710         3       0.0         740        22         1          0  \n",
       "2         810        -3       0.0        1614        -7         0          0  \n",
       "3         804        35       1.0        1027        33         1          0  \n",
       "4         545        -1       0.0         728        -9         0          0  \n",
       "5        1710        87       1.0        2035       183         1          0  \n",
       "6         630        -1       0.0        1210        -3         0          0  \n",
       "7        2218         4       0.0        2301        15         1          0  \n",
       "8        1010         8       0.0        1240       -10         0          0  \n",
       "9        1759        40       1.0        2107        10         0          0  "
      ]
     },
     "execution_count": 57,
     "metadata": {},
     "output_type": "execute_result"
    }
   ],
   "source": [
    "import pandas as pd\n",
    "\n",
    "df_flights = pd.read_csv('data/flights.csv')\n",
    "df_flights.head(10)"
   ]
  },
  {
   "cell_type": "markdown",
   "metadata": {},
   "source": [
    "The dataset contains observations of US domestic flights in 2013, and consists of the following fields:\n",
    "\n",
    "- **Year**: The year of the flight (all records are from 2013)\n",
    "- **Month**: The month of the flight\n",
    "- **DayofMonth**: The day of the month on which the flight departed\n",
    "- **DayOfWeek**: The day of the week on which the flight departed - from 1 (Monday) to 7 (Sunday)\n",
    "- **Carrier**: The two-letter abbreviation for the airline.\n",
    "- **OriginAirportID**: A unique numeric identifier for the departure aiport\n",
    "- **OriginAirportName**: The full name of the departure airport\n",
    "- **OriginCity**: The departure airport city\n",
    "- **OriginState**: The departure airport state\n",
    "- **DestAirportID**: A unique numeric identifier for the destination aiport\n",
    "- **DestAirportName**: The full name of the destination airport\n",
    "- **DestCity**: The destination airport city\n",
    "- **DestState**: The destination airport state\n",
    "- **CRSDepTime**: The scheduled departure time\n",
    "- **DepDelay**: The number of minutes departure was delayed (flight that left ahead of schedule have a negative value)\n",
    "- **DelDelay15**: A binary indicator that departure was delayed by more than 15 minutes (and therefore considered \"late\")\n",
    "- **CRSArrTime**: The scheduled arrival time\n",
    "- **ArrDelay**: The number of minutes arrival was delayed (flight that arrived ahead of schedule have a negative value)\n",
    "- **ArrDelay15**: A binary indicator that arrival was delayed by more than 15 minutes (and therefore considered \"late\")\n",
    "- **Cancelled**: A binary indicator that the flight was cancelled\n",
    "\n",
    "Your challenge is to explore the flight data to analyze possible factors that affect delays in departure or arrival of a flight.\n",
    "\n",
    "1. Start by cleaning the data.\n",
    "    - Identify any null or missing data, and impute appropriate replacement values.\n",
    "    - Identify and eliminate any outliers in the **DepDelay** and **ArrDelay** columns.\n",
    "2. Explore the cleaned data.\n",
    "    - View summary statistics for the numeric fields in the dataset.\n",
    "    - Determine the distribution of the **DepDelay** and **ArrDelay** columns.\n",
    "    - Use statistics, aggregate functions, and visualizations to answer the following questions:\n",
    "        - *What are the average (mean) departure and arrival delays?*\n",
    "        - *How do the carriers compare in terms of arrival delay performance?*\n",
    "        - *Is there a noticable difference in arrival delays for different days of the week?*\n",
    "        - *Which departure airport has the highest average departure delay?*\n",
    "        - *Do **late** departures tend to result in longer arrival delays than on-time departures?*\n",
    "        - *Which route (from origin airport to destination airport) has the most **late** arrivals?*\n",
    "        - *Which route has the highest average arrival delay?*\n",
    "        \n",
    "Add markdown and code cells as required to create your solution.\n",
    "\n",
    "> **Note**: There is no single \"correct\" solution. A sample solution is provided in [01 - Flights Challenge.ipynb](01%20-%20Flights%20Solution.ipynb)."
   ]
  },
  {
   "cell_type": "code",
   "execution_count": 58,
   "metadata": {},
   "outputs": [
    {
     "data": {
      "text/plain": [
       "(271940, 20)"
      ]
     },
     "execution_count": 58,
     "metadata": {},
     "output_type": "execute_result"
    }
   ],
   "source": [
    "#Take a look at the data \n",
    "df_flights.shape"
   ]
  },
  {
   "cell_type": "code",
   "execution_count": 59,
   "metadata": {},
   "outputs": [
    {
     "data": {
      "text/plain": [
       "Year                    0\n",
       "Month                   0\n",
       "DayofMonth              0\n",
       "DayOfWeek               0\n",
       "Carrier                 0\n",
       "OriginAirportID         0\n",
       "OriginAirportName       0\n",
       "OriginCity              0\n",
       "OriginState             0\n",
       "DestAirportID           0\n",
       "DestAirportName         0\n",
       "DestCity                0\n",
       "DestState               0\n",
       "CRSDepTime              0\n",
       "DepDelay                0\n",
       "DepDel15             2761\n",
       "CRSArrTime              0\n",
       "ArrDelay                0\n",
       "ArrDel15                0\n",
       "Cancelled               0\n",
       "dtype: int64"
      ]
     },
     "execution_count": 59,
     "metadata": {},
     "output_type": "execute_result"
    }
   ],
   "source": [
    "# Check for any missing data \n",
    "df_flights.isnull().sum()\n",
    "#we see that we have a lot of missing values in column DepDel15\n",
    "#so we either drop them or replace them with other values \n"
   ]
  },
  {
   "cell_type": "code",
   "execution_count": 60,
   "metadata": {},
   "outputs": [
    {
     "data": {
      "text/html": [
       "<div>\n",
       "<style scoped>\n",
       "    .dataframe tbody tr th:only-of-type {\n",
       "        vertical-align: middle;\n",
       "    }\n",
       "\n",
       "    .dataframe tbody tr th {\n",
       "        vertical-align: top;\n",
       "    }\n",
       "\n",
       "    .dataframe thead th {\n",
       "        text-align: right;\n",
       "    }\n",
       "</style>\n",
       "<table border=\"1\" class=\"dataframe\">\n",
       "  <thead>\n",
       "    <tr style=\"text-align: right;\">\n",
       "      <th></th>\n",
       "      <th>DepDelay</th>\n",
       "      <th>DepDel15</th>\n",
       "    </tr>\n",
       "  </thead>\n",
       "  <tbody>\n",
       "    <tr>\n",
       "      <th>171</th>\n",
       "      <td>0</td>\n",
       "      <td>NaN</td>\n",
       "    </tr>\n",
       "    <tr>\n",
       "      <th>359</th>\n",
       "      <td>0</td>\n",
       "      <td>NaN</td>\n",
       "    </tr>\n",
       "    <tr>\n",
       "      <th>429</th>\n",
       "      <td>0</td>\n",
       "      <td>NaN</td>\n",
       "    </tr>\n",
       "    <tr>\n",
       "      <th>545</th>\n",
       "      <td>0</td>\n",
       "      <td>NaN</td>\n",
       "    </tr>\n",
       "    <tr>\n",
       "      <th>554</th>\n",
       "      <td>0</td>\n",
       "      <td>NaN</td>\n",
       "    </tr>\n",
       "    <tr>\n",
       "      <th>...</th>\n",
       "      <td>...</td>\n",
       "      <td>...</td>\n",
       "    </tr>\n",
       "    <tr>\n",
       "      <th>271410</th>\n",
       "      <td>0</td>\n",
       "      <td>NaN</td>\n",
       "    </tr>\n",
       "    <tr>\n",
       "      <th>271607</th>\n",
       "      <td>0</td>\n",
       "      <td>NaN</td>\n",
       "    </tr>\n",
       "    <tr>\n",
       "      <th>271634</th>\n",
       "      <td>0</td>\n",
       "      <td>NaN</td>\n",
       "    </tr>\n",
       "    <tr>\n",
       "      <th>271671</th>\n",
       "      <td>0</td>\n",
       "      <td>NaN</td>\n",
       "    </tr>\n",
       "    <tr>\n",
       "      <th>271885</th>\n",
       "      <td>0</td>\n",
       "      <td>NaN</td>\n",
       "    </tr>\n",
       "  </tbody>\n",
       "</table>\n",
       "<p>2761 rows × 2 columns</p>\n",
       "</div>"
      ],
      "text/plain": [
       "        DepDelay  DepDel15\n",
       "171            0       NaN\n",
       "359            0       NaN\n",
       "429            0       NaN\n",
       "545            0       NaN\n",
       "554            0       NaN\n",
       "...          ...       ...\n",
       "271410         0       NaN\n",
       "271607         0       NaN\n",
       "271634         0       NaN\n",
       "271671         0       NaN\n",
       "271885         0       NaN\n",
       "\n",
       "[2761 rows x 2 columns]"
      ]
     },
     "execution_count": 60,
     "metadata": {},
     "output_type": "execute_result"
    }
   ],
   "source": [
    "#looking at the column it is only a binary value whether or not there is a delay greater than 15 minutes , which is easy for us to calculate\n",
    "#maybe if the delay is 0 ,that could explain the nan value so we can take a look \n",
    "df_flights[df_flights.isnull().any(axis=1)][['DepDelay','DepDel15']]"
   ]
  },
  {
   "cell_type": "code",
   "execution_count": 61,
   "metadata": {},
   "outputs": [
    {
     "data": {
      "text/plain": [
       "count    2761.0\n",
       "mean        0.0\n",
       "std         0.0\n",
       "min         0.0\n",
       "25%         0.0\n",
       "50%         0.0\n",
       "75%         0.0\n",
       "max         0.0\n",
       "Name: DepDelay, dtype: float64"
      ]
     },
     "execution_count": 61,
     "metadata": {},
     "output_type": "execute_result"
    }
   ],
   "source": [
    "#because it is difficult to see if it has 0 delays for every case we can check by summing\n",
    "df_flights[df_flights.isnull().any(axis=1)]['DepDelay'].describe()\n"
   ]
  },
  {
   "cell_type": "code",
   "execution_count": 62,
   "metadata": {},
   "outputs": [
    {
     "data": {
      "text/plain": [
       "Year                 0\n",
       "Month                0\n",
       "DayofMonth           0\n",
       "DayOfWeek            0\n",
       "Carrier              0\n",
       "OriginAirportID      0\n",
       "OriginAirportName    0\n",
       "OriginCity           0\n",
       "OriginState          0\n",
       "DestAirportID        0\n",
       "DestAirportName      0\n",
       "DestCity             0\n",
       "DestState            0\n",
       "CRSDepTime           0\n",
       "DepDelay             0\n",
       "DepDel15             0\n",
       "CRSArrTime           0\n",
       "ArrDelay             0\n",
       "ArrDel15             0\n",
       "Cancelled            0\n",
       "dtype: int64"
      ]
     },
     "execution_count": 62,
     "metadata": {},
     "output_type": "execute_result"
    }
   ],
   "source": [
    "#since in every case there are no delays, we can simply replace with 0\n",
    "df_flights.DepDel15 = df_flights.DepDel15.fillna(0)\n",
    "df_flights.isnull().sum()"
   ]
  },
  {
   "cell_type": "code",
   "execution_count": 63,
   "metadata": {},
   "outputs": [],
   "source": [
    "%matplotlib inline\n",
    "\n",
    "from matplotlib import pyplot as plt\n"
   ]
  },
  {
   "cell_type": "code",
   "execution_count": 64,
   "metadata": {},
   "outputs": [
    {
     "data": {
      "text/plain": [
       "Text(0.5, 1.0, 'ArrDelay')"
      ]
     },
     "execution_count": 64,
     "metadata": {},
     "output_type": "execute_result"
    },
    {
     "data": {
      "image/png": "[encoded data removed]",
      "text/plain": [
       "<Figure size 1080x576 with 2 Axes>"
      ]
     },
     "metadata": {
      "needs_background": "light"
     },
     "output_type": "display_data"
    }
   ],
   "source": [
    "#identify outliers : we can visualize them using a boxplot \n",
    "var1 = df_flights['DepDelay']\n",
    "var2 = df_flights['ArrDelay']\n",
    "fig , ax = plt.subplots(2,1,figsize = (15,8))\n",
    "ax[0].boxplot(var1,vert = False)\n",
    "ax[0].set_title('DepDelay')\n",
    "ax[1].boxplot(var2,vert  = False)\n",
    "ax[1].set_title('ArrDelay')"
   ]
  },
  {
   "cell_type": "code",
   "execution_count": 65,
   "metadata": {},
   "outputs": [
    {
     "name": "stdout",
     "output_type": "stream",
     "text": [
      "DepDelay \n",
      "Minimum:-63.00\n",
      "Mean:10.35\n",
      "Median:-1.00\n",
      "Mode:-3.00\n",
      "Maximum:1425.00\n",
      "\n"
     ]
    },
    {
     "name": "stderr",
     "output_type": "stream",
     "text": [
      "C:\\Users\\ΑΝΝΑ\\AppData\\Local\\Temp\\ipykernel_4680\\3082807952.py:41: UserWarning: Matplotlib is currently using module://matplotlib_inline.backend_inline, which is a non-GUI backend, so cannot show the figure.\n",
      "  fig.show()\n",
      "C:\\Users\\ΑΝΝΑ\\AppData\\Local\\Temp\\ipykernel_4680\\3082807952.py:41: UserWarning: Matplotlib is currently using module://matplotlib_inline.backend_inline, which is a non-GUI backend, so cannot show the figure.\n",
      "  fig.show()\n"
     ]
    },
    {
     "name": "stdout",
     "output_type": "stream",
     "text": [
      "ArrDelay \n",
      "Minimum:-75.00\n",
      "Mean:6.50\n",
      "Median:-3.00\n",
      "Mode:0.00\n",
      "Maximum:1440.00\n",
      "\n"
     ]
    },
    {
     "data": {
      "image/png": "[encoded data removed]",
      "text/plain": [
       "<Figure size 720x288 with 2 Axes>"
      ]
     },
     "metadata": {
      "needs_background": "light"
     },
     "output_type": "display_data"
    },
    {
     "data": {
      "image/png": "[encoded data removed]",
      "text/plain": [
       "<Figure size 720x288 with 2 Axes>"
      ]
     },
     "metadata": {
      "needs_background": "light"
     },
     "output_type": "display_data"
    }
   ],
   "source": [
    "#as we can see some outliers in the upper limits , we can drop the values above 1000.\n",
    "# Function to show summary stats and distribution for a column\n",
    "def show_distribution(var_data):\n",
    "    from matplotlib import pyplot as plt\n",
    "\n",
    "    # Get statistics\n",
    "    min_val = var_data.min()\n",
    "    max_val = var_data.max()\n",
    "    mean_val = var_data.mean()\n",
    "    med_val = var_data.median()\n",
    "    mod_val = var_data.mode()[0]\n",
    "\n",
    "    print(var_data.name,'\\nMinimum:{:.2f}\\nMean:{:.2f}\\nMedian:{:.2f}\\nMode:{:.2f}\\nMaximum:{:.2f}\\n'.format(min_val,\n",
    "                                                                                            mean_val,\n",
    "                                                                                            med_val,\n",
    "                                                                                            mod_val,\n",
    "                                                                                            max_val))\n",
    "\n",
    "    # Create a figure for 2 subplots (2 rows, 1 column)\n",
    "    fig, ax = plt.subplots(2, 1, figsize = (10,4))\n",
    "\n",
    "    # Plot the histogram   \n",
    "    ax[0].hist(var_data)\n",
    "    ax[0].set_ylabel('Frequency')\n",
    "\n",
    "    # Add lines for the mean, median, and mode\n",
    "    ax[0].axvline(x=min_val, color = 'gray', linestyle='dashed', linewidth = 2)\n",
    "    ax[0].axvline(x=mean_val, color = 'cyan', linestyle='dashed', linewidth = 2)\n",
    "    ax[0].axvline(x=med_val, color = 'red', linestyle='dashed', linewidth = 2)\n",
    "    ax[0].axvline(x=mod_val, color = 'yellow', linestyle='dashed', linewidth = 2)\n",
    "    ax[0].axvline(x=max_val, color = 'gray', linestyle='dashed', linewidth = 2)\n",
    "\n",
    "    # Plot the boxplot   \n",
    "    ax[1].boxplot(var_data, vert=False)\n",
    "    ax[1].set_xlabel('Value')\n",
    "\n",
    "    # Add a title to the Figure\n",
    "    fig.suptitle(var_data.name)\n",
    "\n",
    "    # Show the figure\n",
    "    fig.show()\n",
    "\n",
    "# Call the function for each delay field\n",
    "delayFields = ['DepDelay','ArrDelay']\n",
    "for col in delayFields:\n",
    "    show_distribution(df_flights[col])"
   ]
  },
  {
   "cell_type": "code",
   "execution_count": 66,
   "metadata": {},
   "outputs": [],
   "source": [
    "#since there are a lot of outliers, we are going to go by percentiles \n",
    "#drop those above 90 %\n",
    "q901 = df_flights['DepDelay'].quantile(0.9)\n",
    "q901 \n",
    "q902 = df_flights['ArrDelay'].quantile(0.9)\n",
    "q902\n",
    "q011 = df_flights['DepDelay'].quantile(0.01)\n",
    "q011 \n",
    "q012 = df_flights['ArrDelay'].quantile(0.01)\n",
    "q012\n",
    "#drop them\n",
    "df_flights = df_flights[df_flights['DepDelay']<q901]\n",
    "df_flights = df_flights[df_flights['DepDelay']>q011]\n",
    "df_flights = df_flights[df_flights['ArrDelay']<q902]\n",
    "df_flights = df_flights[df_flights['ArrDelay']>q012]"
   ]
  },
  {
   "cell_type": "code",
   "execution_count": 67,
   "metadata": {},
   "outputs": [
    {
     "name": "stdout",
     "output_type": "stream",
     "text": [
      "DepDelay \n",
      "Minimum:-11.00\n",
      "Mean:1.29\n",
      "Median:-1.00\n",
      "Mode:-3.00\n",
      "Maximum:36.00\n",
      "\n",
      "ArrDelay \n",
      "Minimum:-32.00\n",
      "Mean:-3.10\n",
      "Median:-5.00\n",
      "Mode:0.00\n",
      "Maximum:37.00\n",
      "\n"
     ]
    },
    {
     "name": "stderr",
     "output_type": "stream",
     "text": [
      "C:\\Users\\ΑΝΝΑ\\AppData\\Local\\Temp\\ipykernel_4680\\3082807952.py:41: UserWarning: Matplotlib is currently using module://matplotlib_inline.backend_inline, which is a non-GUI backend, so cannot show the figure.\n",
      "  fig.show()\n",
      "C:\\Users\\ΑΝΝΑ\\AppData\\Local\\Temp\\ipykernel_4680\\3082807952.py:41: UserWarning: Matplotlib is currently using module://matplotlib_inline.backend_inline, which is a non-GUI backend, so cannot show the figure.\n",
      "  fig.show()\n"
     ]
    },
    {
     "data": {
      "image/png": "[encoded data removed]",
      "text/plain": [
       "<Figure size 720x288 with 2 Axes>"
      ]
     },
     "metadata": {
      "needs_background": "light"
     },
     "output_type": "display_data"
    },
    {
     "data": {
      "image/png": "[encoded data removed]",
      "text/plain": [
       "<Figure size 720x288 with 2 Axes>"
      ]
     },
     "metadata": {
      "needs_background": "light"
     },
     "output_type": "display_data"
    }
   ],
   "source": [
    "for col in delayFields:\n",
    "    show_distribution(df_flights[col])\n",
    "#much better!"
   ]
  },
  {
   "cell_type": "markdown",
   "metadata": {},
   "source": [
    "### Explore the data "
   ]
  },
  {
   "cell_type": "code",
   "execution_count": 68,
   "metadata": {},
   "outputs": [
    {
     "data": {
      "text/html": [
       "<div>\n",
       "<style scoped>\n",
       "    .dataframe tbody tr th:only-of-type {\n",
       "        vertical-align: middle;\n",
       "    }\n",
       "\n",
       "    .dataframe tbody tr th {\n",
       "        vertical-align: top;\n",
       "    }\n",
       "\n",
       "    .dataframe thead th {\n",
       "        text-align: right;\n",
       "    }\n",
       "</style>\n",
       "<table border=\"1\" class=\"dataframe\">\n",
       "  <thead>\n",
       "    <tr style=\"text-align: right;\">\n",
       "      <th></th>\n",
       "      <th>Year</th>\n",
       "      <th>Month</th>\n",
       "      <th>DayofMonth</th>\n",
       "      <th>DayOfWeek</th>\n",
       "      <th>OriginAirportID</th>\n",
       "      <th>DestAirportID</th>\n",
       "      <th>CRSDepTime</th>\n",
       "      <th>DepDelay</th>\n",
       "      <th>DepDel15</th>\n",
       "      <th>CRSArrTime</th>\n",
       "      <th>ArrDelay</th>\n",
       "      <th>ArrDel15</th>\n",
       "      <th>Cancelled</th>\n",
       "    </tr>\n",
       "  </thead>\n",
       "  <tbody>\n",
       "    <tr>\n",
       "      <th>count</th>\n",
       "      <td>234802.0</td>\n",
       "      <td>234802.000000</td>\n",
       "      <td>234802.000000</td>\n",
       "      <td>234802.000000</td>\n",
       "      <td>234802.000000</td>\n",
       "      <td>234802.000000</td>\n",
       "      <td>234802.000000</td>\n",
       "      <td>234802.000000</td>\n",
       "      <td>234802.000000</td>\n",
       "      <td>234802.000000</td>\n",
       "      <td>234802.000000</td>\n",
       "      <td>234802.000000</td>\n",
       "      <td>234802.000000</td>\n",
       "    </tr>\n",
       "    <tr>\n",
       "      <th>mean</th>\n",
       "      <td>2013.0</td>\n",
       "      <td>7.012951</td>\n",
       "      <td>15.810819</td>\n",
       "      <td>3.902309</td>\n",
       "      <td>12751.998284</td>\n",
       "      <td>12735.984404</td>\n",
       "      <td>1297.782046</td>\n",
       "      <td>1.288417</td>\n",
       "      <td>0.103445</td>\n",
       "      <td>1479.238690</td>\n",
       "      <td>-3.103666</td>\n",
       "      <td>0.116243</td>\n",
       "      <td>0.012155</td>\n",
       "    </tr>\n",
       "    <tr>\n",
       "      <th>std</th>\n",
       "      <td>0.0</td>\n",
       "      <td>1.999885</td>\n",
       "      <td>8.838329</td>\n",
       "      <td>1.993400</td>\n",
       "      <td>1508.571872</td>\n",
       "      <td>1506.084054</td>\n",
       "      <td>469.718843</td>\n",
       "      <td>9.153171</td>\n",
       "      <td>0.304539</td>\n",
       "      <td>488.477765</td>\n",
       "      <td>12.946277</td>\n",
       "      <td>0.320516</td>\n",
       "      <td>0.109578</td>\n",
       "    </tr>\n",
       "    <tr>\n",
       "      <th>min</th>\n",
       "      <td>2013.0</td>\n",
       "      <td>4.000000</td>\n",
       "      <td>1.000000</td>\n",
       "      <td>1.000000</td>\n",
       "      <td>10140.000000</td>\n",
       "      <td>10140.000000</td>\n",
       "      <td>1.000000</td>\n",
       "      <td>-11.000000</td>\n",
       "      <td>0.000000</td>\n",
       "      <td>1.000000</td>\n",
       "      <td>-32.000000</td>\n",
       "      <td>0.000000</td>\n",
       "      <td>0.000000</td>\n",
       "    </tr>\n",
       "    <tr>\n",
       "      <th>25%</th>\n",
       "      <td>2013.0</td>\n",
       "      <td>5.000000</td>\n",
       "      <td>8.000000</td>\n",
       "      <td>2.000000</td>\n",
       "      <td>11292.000000</td>\n",
       "      <td>11292.000000</td>\n",
       "      <td>900.000000</td>\n",
       "      <td>-5.000000</td>\n",
       "      <td>0.000000</td>\n",
       "      <td>1105.000000</td>\n",
       "      <td>-12.000000</td>\n",
       "      <td>0.000000</td>\n",
       "      <td>0.000000</td>\n",
       "    </tr>\n",
       "    <tr>\n",
       "      <th>50%</th>\n",
       "      <td>2013.0</td>\n",
       "      <td>7.000000</td>\n",
       "      <td>16.000000</td>\n",
       "      <td>4.000000</td>\n",
       "      <td>12892.000000</td>\n",
       "      <td>12892.000000</td>\n",
       "      <td>1255.000000</td>\n",
       "      <td>-1.000000</td>\n",
       "      <td>0.000000</td>\n",
       "      <td>1500.000000</td>\n",
       "      <td>-5.000000</td>\n",
       "      <td>0.000000</td>\n",
       "      <td>0.000000</td>\n",
       "    </tr>\n",
       "    <tr>\n",
       "      <th>75%</th>\n",
       "      <td>2013.0</td>\n",
       "      <td>9.000000</td>\n",
       "      <td>23.000000</td>\n",
       "      <td>6.000000</td>\n",
       "      <td>14100.000000</td>\n",
       "      <td>14057.000000</td>\n",
       "      <td>1705.000000</td>\n",
       "      <td>4.000000</td>\n",
       "      <td>0.000000</td>\n",
       "      <td>1900.000000</td>\n",
       "      <td>4.000000</td>\n",
       "      <td>0.000000</td>\n",
       "      <td>0.000000</td>\n",
       "    </tr>\n",
       "    <tr>\n",
       "      <th>max</th>\n",
       "      <td>2013.0</td>\n",
       "      <td>10.000000</td>\n",
       "      <td>31.000000</td>\n",
       "      <td>7.000000</td>\n",
       "      <td>15376.000000</td>\n",
       "      <td>15376.000000</td>\n",
       "      <td>2359.000000</td>\n",
       "      <td>36.000000</td>\n",
       "      <td>1.000000</td>\n",
       "      <td>2359.000000</td>\n",
       "      <td>37.000000</td>\n",
       "      <td>1.000000</td>\n",
       "      <td>1.000000</td>\n",
       "    </tr>\n",
       "  </tbody>\n",
       "</table>\n",
       "</div>"
      ],
      "text/plain": [
       "           Year          Month     DayofMonth      DayOfWeek  OriginAirportID  \\\n",
       "count  234802.0  234802.000000  234802.000000  234802.000000    234802.000000   \n",
       "mean     2013.0       7.012951      15.810819       3.902309     12751.998284   \n",
       "std         0.0       1.999885       8.838329       1.993400      1508.571872   \n",
       "min      2013.0       4.000000       1.000000       1.000000     10140.000000   \n",
       "25%      2013.0       5.000000       8.000000       2.000000     11292.000000   \n",
       "50%      2013.0       7.000000      16.000000       4.000000     12892.000000   \n",
       "75%      2013.0       9.000000      23.000000       6.000000     14100.000000   \n",
       "max      2013.0      10.000000      31.000000       7.000000     15376.000000   \n",
       "\n",
       "       DestAirportID     CRSDepTime       DepDelay       DepDel15  \\\n",
       "count  234802.000000  234802.000000  234802.000000  234802.000000   \n",
       "mean    12735.984404    1297.782046       1.288417       0.103445   \n",
       "std      1506.084054     469.718843       9.153171       0.304539   \n",
       "min     10140.000000       1.000000     -11.000000       0.000000   \n",
       "25%     11292.000000     900.000000      -5.000000       0.000000   \n",
       "50%     12892.000000    1255.000000      -1.000000       0.000000   \n",
       "75%     14057.000000    1705.000000       4.000000       0.000000   \n",
       "max     15376.000000    2359.000000      36.000000       1.000000   \n",
       "\n",
       "          CRSArrTime       ArrDelay       ArrDel15      Cancelled  \n",
       "count  234802.000000  234802.000000  234802.000000  234802.000000  \n",
       "mean     1479.238690      -3.103666       0.116243       0.012155  \n",
       "std       488.477765      12.946277       0.320516       0.109578  \n",
       "min         1.000000     -32.000000       0.000000       0.000000  \n",
       "25%      1105.000000     -12.000000       0.000000       0.000000  \n",
       "50%      1500.000000      -5.000000       0.000000       0.000000  \n",
       "75%      1900.000000       4.000000       0.000000       0.000000  \n",
       "max      2359.000000      37.000000       1.000000       1.000000  "
      ]
     },
     "execution_count": 68,
     "metadata": {},
     "output_type": "execute_result"
    }
   ],
   "source": [
    "#summary statistics\n",
    "df_flights.describe()"
   ]
  },
  {
   "cell_type": "markdown",
   "metadata": {},
   "source": [
    "#### What are average (mean) departure and arrival delays?\n"
   ]
  },
  {
   "cell_type": "code",
   "execution_count": 69,
   "metadata": {},
   "outputs": [
    {
     "name": "stdout",
     "output_type": "stream",
     "text": [
      "The average departure is 1.29 minutes and arrival is -3.10 minutes\n"
     ]
    }
   ],
   "source": [
    "avg_dep = df_flights['DepDelay'].mean()\n",
    "avg_arr = df_flights['ArrDelay'].mean()\n",
    "print('The average departure is {:.2f} minutes and arrival is {:.2f} minutes'.format(avg_dep,avg_arr))"
   ]
  },
  {
   "cell_type": "markdown",
   "metadata": {},
   "source": [
    "#### How do the carriers compare in terms of arrival delay performance?"
   ]
  },
  {
   "cell_type": "code",
   "execution_count": 70,
   "metadata": {},
   "outputs": [
    {
     "data": {
      "image/png": "[encoded data removed]",
      "text/plain": [
       "<Figure size 720x720 with 1 Axes>"
      ]
     },
     "metadata": {
      "needs_background": "light"
     },
     "output_type": "display_data"
    },
    {
     "data": {
      "image/png": "[encoded data removed]",
      "text/plain": [
       "<Figure size 720x720 with 1 Axes>"
      ]
     },
     "metadata": {
      "needs_background": "light"
     },
     "output_type": "display_data"
    }
   ],
   "source": [
    "for col in delayFields:\n",
    "    df_flights.boxplot(column=col,by='Carrier',figsize=(10,10))"
   ]
  },
  {
   "cell_type": "markdown",
   "metadata": {},
   "source": [
    "#### Are some days of the week more prone to arrival days than others?"
   ]
  },
  {
   "cell_type": "code",
   "execution_count": 71,
   "metadata": {},
   "outputs": [
    {
     "data": {
      "image/png": "[encoded data removed]",
      "text/plain": [
       "<Figure size 720x720 with 1 Axes>"
      ]
     },
     "metadata": {
      "needs_background": "light"
     },
     "output_type": "display_data"
    },
    {
     "data": {
      "image/png": "[encoded data removed]",
      "text/plain": [
       "<Figure size 720x720 with 1 Axes>"
      ]
     },
     "metadata": {
      "needs_background": "light"
     },
     "output_type": "display_data"
    }
   ],
   "source": [
    "for col in delayFields:\n",
    "    df_flights.boxplot(column=col,by='DayOfWeek',figsize=(10,10))"
   ]
  },
  {
   "cell_type": "markdown",
   "metadata": {},
   "source": [
    "#### Which departure airport has the highest average departure delay?"
   ]
  },
  {
   "cell_type": "code",
   "execution_count": 72,
   "metadata": {},
   "outputs": [
    {
     "data": {
      "text/html": [
       "<div>\n",
       "<style scoped>\n",
       "    .dataframe tbody tr th:only-of-type {\n",
       "        vertical-align: middle;\n",
       "    }\n",
       "\n",
       "    .dataframe tbody tr th {\n",
       "        vertical-align: top;\n",
       "    }\n",
       "\n",
       "    .dataframe thead th {\n",
       "        text-align: right;\n",
       "    }\n",
       "</style>\n",
       "<table border=\"1\" class=\"dataframe\">\n",
       "  <thead>\n",
       "    <tr style=\"text-align: right;\">\n",
       "      <th></th>\n",
       "      <th>DepDelay</th>\n",
       "    </tr>\n",
       "    <tr>\n",
       "      <th>OriginAirportName</th>\n",
       "      <th></th>\n",
       "    </tr>\n",
       "  </thead>\n",
       "  <tbody>\n",
       "    <tr>\n",
       "      <th>Chicago Midway International</th>\n",
       "      <td>6.240506</td>\n",
       "    </tr>\n",
       "    <tr>\n",
       "      <th>Dallas Love Field</th>\n",
       "      <td>4.947875</td>\n",
       "    </tr>\n",
       "    <tr>\n",
       "      <th>William P Hobby</th>\n",
       "      <td>4.945270</td>\n",
       "    </tr>\n",
       "    <tr>\n",
       "      <th>Baltimore/Washington International Thurgood Marshall</th>\n",
       "      <td>3.805278</td>\n",
       "    </tr>\n",
       "    <tr>\n",
       "      <th>Denver International</th>\n",
       "      <td>3.681906</td>\n",
       "    </tr>\n",
       "    <tr>\n",
       "      <th>...</th>\n",
       "      <td>...</td>\n",
       "    </tr>\n",
       "    <tr>\n",
       "      <th>Tucson International</th>\n",
       "      <td>-1.372188</td>\n",
       "    </tr>\n",
       "    <tr>\n",
       "      <th>Richmond International</th>\n",
       "      <td>-1.609312</td>\n",
       "    </tr>\n",
       "    <tr>\n",
       "      <th>Kahului Airport</th>\n",
       "      <td>-1.852998</td>\n",
       "    </tr>\n",
       "    <tr>\n",
       "      <th>Ted Stevens Anchorage International</th>\n",
       "      <td>-1.955453</td>\n",
       "    </tr>\n",
       "    <tr>\n",
       "      <th>Long Beach Airport</th>\n",
       "      <td>-2.269333</td>\n",
       "    </tr>\n",
       "  </tbody>\n",
       "</table>\n",
       "<p>70 rows × 1 columns</p>\n",
       "</div>"
      ],
      "text/plain": [
       "                                                    DepDelay\n",
       "OriginAirportName                                           \n",
       "Chicago Midway International                        6.240506\n",
       "Dallas Love Field                                   4.947875\n",
       "William P Hobby                                     4.945270\n",
       "Baltimore/Washington International Thurgood Mar...  3.805278\n",
       "Denver International                                3.681906\n",
       "...                                                      ...\n",
       "Tucson International                               -1.372188\n",
       "Richmond International                             -1.609312\n",
       "Kahului Airport                                    -1.852998\n",
       "Ted Stevens Anchorage International                -1.955453\n",
       "Long Beach Airport                                 -2.269333\n",
       "\n",
       "[70 rows x 1 columns]"
      ]
     },
     "execution_count": 72,
     "metadata": {},
     "output_type": "execute_result"
    }
   ],
   "source": [
    "#first we need to group each unique airport \n",
    "average_dep_del = df_flights.groupby(df_flights.OriginAirportName)\n",
    "average_dep_del\n",
    "mean_departure_delays = pd.DataFrame(average_dep_del['DepDelay'].mean()).sort_values(by='DepDelay',ascending = False)\n",
    "mean_departure_delays"
   ]
  },
  {
   "cell_type": "code",
   "execution_count": 73,
   "metadata": {},
   "outputs": [
    {
     "data": {
      "text/plain": [
       "<AxesSubplot:xlabel='OriginAirportName'>"
      ]
     },
     "execution_count": 73,
     "metadata": {},
     "output_type": "execute_result"
    },
    {
     "data": {
      "image/png": "[encoded data removed]",
      "text/plain": [
       "<Figure size 576x576 with 1 Axes>"
      ]
     },
     "metadata": {
      "needs_background": "light"
     },
     "output_type": "display_data"
    }
   ],
   "source": [
    "#visualize the results with a barplot\n",
    "mean_departure_delays.plot(kind='bar',figsize = (8,8))"
   ]
  },
  {
   "cell_type": "markdown",
   "metadata": {},
   "source": [
    "#### Do *late* departures tend to result in longer arrival delays than on-time departures?"
   ]
  },
  {
   "cell_type": "code",
   "execution_count": 74,
   "metadata": {},
   "outputs": [
    {
     "data": {
      "text/plain": [
       "<AxesSubplot:title={'center':'ArrDelay'}, xlabel='DepDel15'>"
      ]
     },
     "execution_count": 74,
     "metadata": {},
     "output_type": "execute_result"
    },
    {
     "data": {
      "image/png": "[encoded data removed]",
      "text/plain": [
       "<Figure size 576x576 with 1 Axes>"
      ]
     },
     "metadata": {
      "needs_background": "light"
     },
     "output_type": "display_data"
    }
   ],
   "source": [
    "#late departures mean those that have a delay>0 so first we need to find those\n",
    "df_flights.boxplot(column='ArrDelay',by='DepDel15',figsize=(8,8))"
   ]
  },
  {
   "cell_type": "markdown",
   "metadata": {},
   "source": [
    "### Which route (from origin airport to destination airport) has the most **late** arrivals?"
   ]
  },
  {
   "cell_type": "code",
   "execution_count": 75,
   "metadata": {},
   "outputs": [
    {
     "data": {
      "text/plain": [
       "<pandas.core.groupby.generic.DataFrameGroupBy object at 0x0000019CCCD6E0A0>"
      ]
     },
     "execution_count": 75,
     "metadata": {},
     "output_type": "execute_result"
    }
   ],
   "source": [
    "#create the route by combining the two columns\n",
    "routes = pd.Series(df_flights['OriginAirportName'] + '>' + df_flights['DestAirportName'])\n",
    "df_flights = pd.concat([df_flights, routes.rename(\"Route\")], axis=1)\n",
    "\n",
    "df_flights\n",
    "#group the unique routes\n",
    "route_group = df_flights.groupby(df_flights.Route)\n",
    "route_group"
   ]
  },
  {
   "cell_type": "code",
   "execution_count": 78,
   "metadata": {},
   "outputs": [
    {
     "data": {
      "text/html": [
       "<div>\n",
       "<style scoped>\n",
       "    .dataframe tbody tr th:only-of-type {\n",
       "        vertical-align: middle;\n",
       "    }\n",
       "\n",
       "    .dataframe tbody tr th {\n",
       "        vertical-align: top;\n",
       "    }\n",
       "\n",
       "    .dataframe thead th {\n",
       "        text-align: right;\n",
       "    }\n",
       "</style>\n",
       "<table border=\"1\" class=\"dataframe\">\n",
       "  <thead>\n",
       "    <tr style=\"text-align: right;\">\n",
       "      <th></th>\n",
       "      <th>ArrDel15</th>\n",
       "    </tr>\n",
       "    <tr>\n",
       "      <th>Route</th>\n",
       "      <th></th>\n",
       "    </tr>\n",
       "  </thead>\n",
       "  <tbody>\n",
       "    <tr>\n",
       "      <th>San Francisco International&gt;Los Angeles International</th>\n",
       "      <td>146</td>\n",
       "    </tr>\n",
       "    <tr>\n",
       "      <th>Los Angeles International&gt;San Francisco International</th>\n",
       "      <td>123</td>\n",
       "    </tr>\n",
       "    <tr>\n",
       "      <th>McCarran International&gt;Los Angeles International</th>\n",
       "      <td>90</td>\n",
       "    </tr>\n",
       "    <tr>\n",
       "      <th>LaGuardia&gt;Hartsfield-Jackson Atlanta International</th>\n",
       "      <td>88</td>\n",
       "    </tr>\n",
       "    <tr>\n",
       "      <th>Los Angeles International&gt;McCarran International</th>\n",
       "      <td>80</td>\n",
       "    </tr>\n",
       "    <tr>\n",
       "      <th>...</th>\n",
       "      <td>...</td>\n",
       "    </tr>\n",
       "    <tr>\n",
       "      <th>Luis Munoz Marin International&gt;Ronald Reagan Washington National</th>\n",
       "      <td>0</td>\n",
       "    </tr>\n",
       "    <tr>\n",
       "      <th>Luis Munoz Marin International&gt;Jacksonville International</th>\n",
       "      <td>0</td>\n",
       "    </tr>\n",
       "    <tr>\n",
       "      <th>Luis Munoz Marin International&gt;Chicago O'Hare International</th>\n",
       "      <td>0</td>\n",
       "    </tr>\n",
       "    <tr>\n",
       "      <th>Tampa International&gt;Cleveland-Hopkins International</th>\n",
       "      <td>0</td>\n",
       "    </tr>\n",
       "    <tr>\n",
       "      <th>Louis Armstrong New Orleans International&gt;San Francisco International</th>\n",
       "      <td>0</td>\n",
       "    </tr>\n",
       "  </tbody>\n",
       "</table>\n",
       "<p>2481 rows × 1 columns</p>\n",
       "</div>"
      ],
      "text/plain": [
       "                                                    ArrDel15\n",
       "Route                                                       \n",
       "San Francisco International>Los Angeles Interna...       146\n",
       "Los Angeles International>San Francisco Interna...       123\n",
       "McCarran International>Los Angeles International          90\n",
       "LaGuardia>Hartsfield-Jackson Atlanta International        88\n",
       "Los Angeles International>McCarran International          80\n",
       "...                                                      ...\n",
       "Luis Munoz Marin International>Ronald Reagan Wa...         0\n",
       "Luis Munoz Marin International>Jacksonville Int...         0\n",
       "Luis Munoz Marin International>Chicago O'Hare I...         0\n",
       "Tampa International>Cleveland-Hopkins Internati...         0\n",
       "Louis Armstrong New Orleans International>San F...         0\n",
       "\n",
       "[2481 rows x 1 columns]"
      ]
     },
     "execution_count": 78,
     "metadata": {},
     "output_type": "execute_result"
    }
   ],
   "source": [
    "pd.DataFrame(route_group['ArrDel15'].sum()).sort_values('ArrDel15', ascending=False)"
   ]
  },
  {
   "cell_type": "markdown",
   "metadata": {},
   "source": [
    "#### Which route has the highest average arrival delay?"
   ]
  },
  {
   "cell_type": "code",
   "execution_count": 80,
   "metadata": {},
   "outputs": [
    {
     "data": {
      "text/html": [
       "<div>\n",
       "<style scoped>\n",
       "    .dataframe tbody tr th:only-of-type {\n",
       "        vertical-align: middle;\n",
       "    }\n",
       "\n",
       "    .dataframe tbody tr th {\n",
       "        vertical-align: top;\n",
       "    }\n",
       "\n",
       "    .dataframe thead th {\n",
       "        text-align: right;\n",
       "    }\n",
       "</style>\n",
       "<table border=\"1\" class=\"dataframe\">\n",
       "  <thead>\n",
       "    <tr style=\"text-align: right;\">\n",
       "      <th></th>\n",
       "      <th>ArrDelay</th>\n",
       "    </tr>\n",
       "    <tr>\n",
       "      <th>Route</th>\n",
       "      <th></th>\n",
       "    </tr>\n",
       "  </thead>\n",
       "  <tbody>\n",
       "    <tr>\n",
       "      <th>Louis Armstrong New Orleans International&gt;Ronald Reagan Washington National</th>\n",
       "      <td>25.333333</td>\n",
       "    </tr>\n",
       "    <tr>\n",
       "      <th>Cleveland-Hopkins International&gt;Palm Beach International</th>\n",
       "      <td>18.000000</td>\n",
       "    </tr>\n",
       "    <tr>\n",
       "      <th>Denver International&gt;Raleigh-Durham International</th>\n",
       "      <td>14.153846</td>\n",
       "    </tr>\n",
       "    <tr>\n",
       "      <th>Charlotte Douglas International&gt;General Mitchell International</th>\n",
       "      <td>13.500000</td>\n",
       "    </tr>\n",
       "    <tr>\n",
       "      <th>Cleveland-Hopkins International&gt;Philadelphia International</th>\n",
       "      <td>12.800000</td>\n",
       "    </tr>\n",
       "    <tr>\n",
       "      <th>...</th>\n",
       "      <td>...</td>\n",
       "    </tr>\n",
       "    <tr>\n",
       "      <th>Lambert-St. Louis International&gt;Cleveland-Hopkins International</th>\n",
       "      <td>-20.000000</td>\n",
       "    </tr>\n",
       "    <tr>\n",
       "      <th>Jacksonville International&gt;Chicago Midway International</th>\n",
       "      <td>-20.000000</td>\n",
       "    </tr>\n",
       "    <tr>\n",
       "      <th>Eppley Airfield&gt;LaGuardia</th>\n",
       "      <td>-20.750000</td>\n",
       "    </tr>\n",
       "    <tr>\n",
       "      <th>Denver International&gt;Kahului Airport</th>\n",
       "      <td>-22.666667</td>\n",
       "    </tr>\n",
       "    <tr>\n",
       "      <th>Indianapolis International&gt;Logan International</th>\n",
       "      <td>-26.000000</td>\n",
       "    </tr>\n",
       "  </tbody>\n",
       "</table>\n",
       "<p>2481 rows × 1 columns</p>\n",
       "</div>"
      ],
      "text/plain": [
       "                                                     ArrDelay\n",
       "Route                                                        \n",
       "Louis Armstrong New Orleans International>Ronal...  25.333333\n",
       "Cleveland-Hopkins International>Palm Beach Inte...  18.000000\n",
       "Denver International>Raleigh-Durham International   14.153846\n",
       "Charlotte Douglas International>General Mitchel...  13.500000\n",
       "Cleveland-Hopkins International>Philadelphia In...  12.800000\n",
       "...                                                       ...\n",
       "Lambert-St. Louis International>Cleveland-Hopki... -20.000000\n",
       "Jacksonville International>Chicago Midway Inter... -20.000000\n",
       "Eppley Airfield>LaGuardia                          -20.750000\n",
       "Denver International>Kahului Airport               -22.666667\n",
       "Indianapolis International>Logan International     -26.000000\n",
       "\n",
       "[2481 rows x 1 columns]"
      ]
     },
     "execution_count": 80,
     "metadata": {},
     "output_type": "execute_result"
    }
   ],
   "source": [
    "pd.DataFrame(route_group['ArrDelay'].mean()).sort_values('ArrDelay',ascending=False)"
   ]
  }
 ],
 "metadata": {
  "kernelspec": {
   "display_name": "Python 3.9.13 64-bit (windows store)",
   "language": "python",
   "name": "python3"
  },
  "language_info": {
   "codemirror_mode": {
    "name": "ipython",
    "version": 3
   },
   "file_extension": ".py",
   "mimetype": "text/x-python",
   "name": "python",
   "nbconvert_exporter": "python",
   "pygments_lexer": "ipython3",
   "version": "3.9.13"
  },
  "vscode": {
   "interpreter": {
    "hash": "dad7ed3e0dd29819ae2e6ed03a37630a7e37a0d13f25c92867081f7cb4481539"
   }
  }
 },
 "nbformat": 4,
 "nbformat_minor": 4
}
